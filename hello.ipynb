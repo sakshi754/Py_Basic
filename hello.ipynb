{
 "cells": [
  {
   "cell_type": "markdown",
   "metadata": {},
   "source": [
    "Basics of Python  \n",
    "Various datatypes in Python  \n",
    "Variable  \n",
    "Variable Assignment  \n",
    "Print Formatting  "
   ]
  },
  {
   "cell_type": "code",
   "execution_count": null,
   "metadata": {},
   "outputs": [
    {
     "name": "stdout",
     "output_type": "stream",
     "text": [
      "Numbers are 10 and 5.0\n",
      "Sum of numbers is 15.0, Diff in numbers is 5.0, Multiplication of numbers is 50.0,  Divison of numbers is 2.0\n",
      "Type of 10 is <class 'int'>\n"
     ]
    }
   ],
   "source": [
    "a=10\n",
    "b=5.0\n",
    "sum=a+b\n",
    "diff=a-b\n",
    "mul=a*b\n",
    "div=a/b\n",
    "type(a)\n",
    "type(b)\n",
    "\n",
    "print(\"Numbers are {first_number} and {second_number}\".format(first_number=a,second_number=b))\n",
    "print(\"Sum of numbers is {sum_op}, Diff in numbers is {diff_op}, Multiplication of numbers is {mul_op},  Divison of numbers is {div_op}\".format(sum_op=sum,diff_op=diff,mul_op=mul,div_op=div))\n",
    "print(\"Type of {} is {typeA}\".format(a,typeA=type(a)))\n",
    "\n"
   ]
  },
  {
   "cell_type": "markdown",
   "metadata": {},
   "source": [
    "IN Python you can assign value firectly to variabe. Variable type is determined at runtime.  \n",
    "python is a dynamically typed langauge "
   ]
  }
 ],
 "metadata": {
  "kernelspec": {
   "display_name": "Python 3",
   "language": "python",
   "name": "python3"
  },
  "language_info": {
   "codemirror_mode": {
    "name": "ipython",
    "version": 3
   },
   "file_extension": ".py",
   "mimetype": "text/x-python",
   "name": "python",
   "nbconvert_exporter": "python",
   "pygments_lexer": "ipython3",
   "version": "3.12.4"
  }
 },
 "nbformat": 4,
 "nbformat_minor": 2
}
