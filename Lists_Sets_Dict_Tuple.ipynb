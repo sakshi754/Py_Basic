{
 "cells": [
  {
   "cell_type": "markdown",
   "metadata": {},
   "source": [
    "Data Structures of Python  \n",
    "List  \n",
    "Set  \n",
    "Dict  \n",
    "Tuple  \n"
   ]
  },
  {
   "cell_type": "code",
   "execution_count": null,
   "metadata": {},
   "outputs": [],
   "source": [
    "#List \n",
    "#List is a mutable, changebale ordered sequnece of elements which can be of any data type, including strings, integers, floats, and other lists. \n",
    "#List is denoted by square brackets [] and elements are separated by comma(,).\n",
    "#List is a collection which is ordered and changeable. Allows duplicate members."
   ]
  },
  {
   "cell_type": "code",
   "execution_count": null,
   "metadata": {},
   "outputs": [
    {
     "name": "stdout",
     "output_type": "stream",
     "text": [
      "[1, 2, 3, 4, 5, 'car']\n"
     ]
    },
    {
     "data": {
      "text/plain": [
       "[5, 4, 3, 2, 1]"
      ]
     },
     "execution_count": 54,
     "metadata": {},
     "output_type": "execute_result"
    }
   ],
   "source": [
    "\n",
    "\n",
    "lst_1=[ 1,2,3,4,5,\"car\"] \n",
    "print(lst_1)\n",
    "lst_1[0]\n",
    "lst_1[1:3]\n",
    "lst_1\n",
    "\n",
    "lst_1.append(\"audi\")\n",
    "lst_1\n",
    "\n",
    "lst_1.insert(1,\"audi\")\n",
    "lst_1\n",
    "\n",
    "lst_1.pop(-1)\n",
    "lst_1\n",
    "\n",
    "lst_1.reverse()\n",
    "lst_1\n",
    "\n",
    "lst_1.pop(-2)\n",
    "lst_1\n",
    "\n",
    "lst_1.remove('car')\n",
    "lst_1\n",
    "\n",
    "lst_1.sort()\n",
    "lst_1\n",
    "\n",
    "lst_1.sort(reverse=True)\n",
    "lst_1\n",
    "\n"
   ]
  },
  {
   "cell_type": "code",
   "execution_count": null,
   "metadata": {},
   "outputs": [],
   "source": [
    "#Set\n",
    "#Set is unordered sequence of elements \n",
    "#sets have all unique elements \n",
    "#sets are mutabe \n",
    "#sets are fast for lookup, insertion and deletion operations\n",
    "#set is created using set() function or {} curly braces\n",
    "#set is not indexed, so we can't access elements by index\n",
    "#set is not ordered, so we can't access elements by index\n",
    "#set is mutable, so we can add or remove elements from set"
   ]
  },
  {
   "cell_type": "code",
   "execution_count": 55,
   "metadata": {},
   "outputs": [
    {
     "data": {
      "text/plain": [
       "{1, 2, 3}"
      ]
     },
     "execution_count": 55,
     "metadata": {},
     "output_type": "execute_result"
    }
   ],
   "source": [
    "set_var={1,2,3}\n",
    "set_var"
   ]
  },
  {
   "cell_type": "code",
   "execution_count": 56,
   "metadata": {},
   "outputs": [
    {
     "data": {
      "text/plain": [
       "{1, 2, 3, 4}"
      ]
     },
     "execution_count": 56,
     "metadata": {},
     "output_type": "execute_result"
    }
   ],
   "source": [
    "set_var.add(4)\n",
    "set_var"
   ]
  },
  {
   "cell_type": "code",
   "execution_count": 57,
   "metadata": {},
   "outputs": [
    {
     "data": {
      "text/plain": [
       "{4, 5, 6}"
      ]
     },
     "execution_count": 57,
     "metadata": {},
     "output_type": "execute_result"
    }
   ],
   "source": [
    "set_2={4,5,6}\n",
    "set_2"
   ]
  },
  {
   "cell_type": "code",
   "execution_count": 59,
   "metadata": {},
   "outputs": [
    {
     "data": {
      "text/plain": [
       "{1, 2, 3}"
      ]
     },
     "execution_count": 59,
     "metadata": {},
     "output_type": "execute_result"
    }
   ],
   "source": [
    "set_var.difference(set_2)"
   ]
  },
  {
   "cell_type": "code",
   "execution_count": 60,
   "metadata": {},
   "outputs": [
    {
     "data": {
      "text/plain": [
       "{4, 5, 6}"
      ]
     },
     "execution_count": 60,
     "metadata": {},
     "output_type": "execute_result"
    }
   ],
   "source": [
    "set_2"
   ]
  },
  {
   "cell_type": "code",
   "execution_count": 61,
   "metadata": {},
   "outputs": [
    {
     "data": {
      "text/plain": [
       "{1, 2, 3, 4}"
      ]
     },
     "execution_count": 61,
     "metadata": {},
     "output_type": "execute_result"
    }
   ],
   "source": [
    "set_var"
   ]
  },
  {
   "cell_type": "code",
   "execution_count": 62,
   "metadata": {},
   "outputs": [],
   "source": [
    "set_var.difference_update(set_2)"
   ]
  },
  {
   "cell_type": "code",
   "execution_count": 63,
   "metadata": {},
   "outputs": [
    {
     "data": {
      "text/plain": [
       "{1, 2, 3}"
      ]
     },
     "execution_count": 63,
     "metadata": {},
     "output_type": "execute_result"
    }
   ],
   "source": [
    "set_var"
   ]
  },
  {
   "cell_type": "code",
   "execution_count": null,
   "metadata": {},
   "outputs": [],
   "source": [
    "#Dictionary\n",
    "#It is an unordered collection of key-value pairs.\n",
    "#It is a mutable collection of key-value pairs.\n",
    "#It is a collection of key-value pairs where keys are immutable and values can be mutable.\n",
    "#It is a collection of key-value pairs where keys are unique and values can be duplicate.\n",
    "#It is denoted by curly brackets {} or by the dict() function.\n",
    "#It is used to store data in a structured way.\n"
   ]
  },
  {
   "cell_type": "code",
   "execution_count": 68,
   "metadata": {},
   "outputs": [
    {
     "data": {
      "text/plain": [
       "{'car_1': 'audi', 'car_2': 'bmw', 'car_3': 'maruti'}"
      ]
     },
     "execution_count": 68,
     "metadata": {},
     "output_type": "execute_result"
    }
   ],
   "source": [
    "dict_1={\"car_1\":\"audi\",\"car_2\":\"bmw\",\"car_3\":\"maruti\"}\n",
    "dict_1"
   ]
  },
  {
   "cell_type": "code",
   "execution_count": 70,
   "metadata": {},
   "outputs": [
    {
     "data": {
      "text/plain": [
       "'audi'"
      ]
     },
     "execution_count": 70,
     "metadata": {},
     "output_type": "execute_result"
    }
   ],
   "source": [
    "dict_1[\"car_1\"]"
   ]
  },
  {
   "cell_type": "code",
   "execution_count": 82,
   "metadata": {},
   "outputs": [
    {
     "name": "stdout",
     "output_type": "stream",
     "text": [
      "car_1\n",
      "car_2\n",
      "car_3\n"
     ]
    }
   ],
   "source": [
    "for  x in dict_1:\n",
    "  print (x)"
   ]
  },
  {
   "cell_type": "code",
   "execution_count": 83,
   "metadata": {},
   "outputs": [
    {
     "name": "stdout",
     "output_type": "stream",
     "text": [
      "audi\n",
      "bmw\n",
      "maruti\n"
     ]
    }
   ],
   "source": [
    "for key in dict_1: \n",
    "    print (dict_1[key])"
   ]
  },
  {
   "cell_type": "code",
   "execution_count": null,
   "metadata": {},
   "outputs": [],
   "source": [
    "#Tuple is non mutable\n",
    "#Tuple does not support item assignment \n",
    "#In a tuple you cannot change one value but you can change the whole tuple\n",
    "#Tuple can have any data types\n",
    "#Tuple is defined by values separated by commas inside parentheses ()\n",
    "#Tuple is ordered and indexed, like lists, but its elements cannot be modified after it’s created\n",
    "#Tuple is faster than lists because it does not need to allocate memory for the list’s internal pointers\n",
    "#Tuple is more memory efficient than lists because it does not need to allocate memory for the list’s internal pointers\n",
    "#Tuple is more secure than lists because it does not allow item assignment, which can lead to unexpected behavior in certain situations\n",
    "#Tuple is more predictable and readable than lists because its elements are ordered and indexed, making it easier to understand\n"
   ]
  },
  {
   "cell_type": "code",
   "execution_count": 85,
   "metadata": {},
   "outputs": [
    {
     "data": {
      "text/plain": [
       "(1, 2, 3)"
      ]
     },
     "execution_count": 85,
     "metadata": {},
     "output_type": "execute_result"
    }
   ],
   "source": [
    "tuple_1=(1,2,3)\n",
    "tuple_1"
   ]
  },
  {
   "cell_type": "code",
   "execution_count": 87,
   "metadata": {},
   "outputs": [
    {
     "data": {
      "text/plain": [
       "('sakshi', 1)"
      ]
     },
     "execution_count": 87,
     "metadata": {},
     "output_type": "execute_result"
    }
   ],
   "source": [
    "tuple_1=(\"sakshi\",1)\n",
    "tuple_1"
   ]
  }
 ],
 "metadata": {
  "kernelspec": {
   "display_name": "Python 3",
   "language": "python",
   "name": "python3"
  },
  "language_info": {
   "codemirror_mode": {
    "name": "ipython",
    "version": 3
   },
   "file_extension": ".py",
   "mimetype": "text/x-python",
   "name": "python",
   "nbconvert_exporter": "python",
   "pygments_lexer": "ipython3",
   "version": "3.12.4"
  }
 },
 "nbformat": 4,
 "nbformat_minor": 2
}
